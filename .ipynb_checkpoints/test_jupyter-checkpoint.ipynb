{
 "cells": [
  {
   "cell_type": "code",
   "execution_count": 2,
   "metadata": {},
   "outputs": [
    {
     "name": "stdout",
     "output_type": "stream",
     "text": [
      "1\n",
      "2\n",
      "Use ENTER to add new line\n",
      "Use CTRL+ENTER to execute block of code\n"
     ]
    }
   ],
   "source": [
    "print(1)\n",
    "print(2)\n",
    "print('Use ENTER to add new line')\n",
    "print('Use CTRL+ENTER to execute block of code')"
   ]
  },
  {
   "cell_type": "code",
   "execution_count": 4,
   "metadata": {},
   "outputs": [
    {
     "name": "stdout",
     "output_type": "stream",
     "text": [
      "Use ALT+ENTER to create new cell\n",
      "Use SHIFT+ENTER to \n",
      "\ta) execute block;\n",
      "\tb) create new cell\n"
     ]
    }
   ],
   "source": [
    "print('Use ALT+ENTER to create new cell')\n",
    "print('Use SHIFT+ENTER to \\n\\ta) execute block;\\n\\tb) create new cell')"
   ]
  },
  {
   "cell_type": "code",
   "execution_count": 5,
   "metadata": {},
   "outputs": [
    {
     "name": "stdout",
     "output_type": "stream",
     "text": [
      "Use ESC+dd to delete cell. Hi VIM!\n"
     ]
    }
   ],
   "source": [
    "print('Use ESC+dd to delete cell. Hi VIM!')"
   ]
  }
 ],
 "metadata": {
  "kernelspec": {
   "display_name": "Python 3",
   "language": "python",
   "name": "python3"
  },
  "language_info": {
   "codemirror_mode": {
    "name": "ipython",
    "version": 3
   },
   "file_extension": ".py",
   "mimetype": "text/x-python",
   "name": "python",
   "nbconvert_exporter": "python",
   "pygments_lexer": "ipython3",
   "version": "3.4.3+"
  }
 },
 "nbformat": 4,
 "nbformat_minor": 2
}
