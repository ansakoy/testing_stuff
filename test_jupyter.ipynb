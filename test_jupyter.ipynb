{
 "cells": [
  {
   "cell_type": "code",
   "execution_count": 2,
   "metadata": {},
   "outputs": [
    {
     "name": "stdout",
     "output_type": "stream",
     "text": [
      "1\n",
      "2\n",
      "Use ENTER to add new line\n",
      "Use CTRL+ENTER to execute block of code\n"
     ]
    }
   ],
   "source": [
    "print(1)\n",
    "print(2)\n",
    "print('Use ENTER to add new line')\n",
    "print('Use CTRL+ENTER to execute block of code')"
   ]
  },
  {
   "cell_type": "code",
   "execution_count": 4,
   "metadata": {},
   "outputs": [
    {
     "name": "stdout",
     "output_type": "stream",
     "text": [
      "Use ALT+ENTER to create new cell\n",
      "Use SHIFT+ENTER to \n",
      "\ta) execute block;\n",
      "\tb) create new cell\n"
     ]
    }
   ],
   "source": [
    "print('Use ALT+ENTER to create new cell')\n",
    "print('Use SHIFT+ENTER to \\n\\ta) execute block;\\n\\tb) create new cell')"
   ]
  },
  {
   "cell_type": "code",
   "execution_count": 6,
   "metadata": {},
   "outputs": [
    {
     "name": "stdout",
     "output_type": "stream",
     "text": [
      "Use ESC+dd to delete cell. Hi VIM!\n"
     ]
    }
   ],
   "source": [
    "print('Use ESC+dd to delete cell. Hi VIM!')"
   ]
  },
  {
   "cell_type": "code",
   "execution_count": 8,
   "metadata": {
    "collapsed": true
   },
   "outputs": [],
   "source": [
    "import pandas"
   ]
  },
  {
   "cell_type": "code",
   "execution_count": 11,
   "metadata": {},
   "outputs": [
    {
     "data": {
      "text/html": [
       "<div>\n",
       "<style>\n",
       "    .dataframe thead tr:only-child th {\n",
       "        text-align: right;\n",
       "    }\n",
       "\n",
       "    .dataframe thead th {\n",
       "        text-align: left;\n",
       "    }\n",
       "\n",
       "    .dataframe tbody tr th {\n",
       "        vertical-align: top;\n",
       "    }\n",
       "</style>\n",
       "<table border=\"1\" class=\"dataframe\">\n",
       "  <thead>\n",
       "    <tr style=\"text-align: right;\">\n",
       "      <th></th>\n",
       "      <th>name</th>\n",
       "      <th>surname</th>\n",
       "    </tr>\n",
       "  </thead>\n",
       "  <tbody>\n",
       "    <tr>\n",
       "      <th>0</th>\n",
       "      <td>John</td>\n",
       "      <td>NaN</td>\n",
       "    </tr>\n",
       "    <tr>\n",
       "      <th>1</th>\n",
       "      <td>Jane</td>\n",
       "      <td>Doe</td>\n",
       "    </tr>\n",
       "  </tbody>\n",
       "</table>\n",
       "</div>"
      ],
      "text/plain": [
       "   name surname\n",
       "0  John     NaN\n",
       "1  Jane     Doe"
      ]
     },
     "execution_count": 11,
     "metadata": {},
     "output_type": "execute_result"
    }
   ],
   "source": [
    "df = pandas.DataFrame([{'name': 'John'}, {'name': 'Jane', 'surname': 'Doe'}])\n",
    "df"
   ]
  },
  {
   "cell_type": "code",
   "execution_count": 13,
   "metadata": {
    "collapsed": true
   },
   "outputs": [],
   "source": [
    "import requests"
   ]
  },
  {
   "cell_type": "code",
   "execution_count": 14,
   "metadata": {},
   "outputs": [
    {
     "data": {
      "text/plain": [
       "{'contracts': {'data': [{'contractUrl': 'http://zakupki.gov.ru/epz/contract/contractCard/common-info.html?reestrNumber=1502400095417000001',\n",
       "    'currency': {'code': 'RUB', 'name': 'Российский рубль'},\n",
       "    'currentContractStage': 'E',\n",
       "    'customer': {'fullName': 'ФЕДЕРАЛЬНОЕ ГОСУДАРСТВЕННОЕ УНИТАРНОЕ ПРЕДПРИЯТИЕ \"СТРОИТЕЛЬНОЕ ОБЪЕДИНЕНИЕ\" УПРАВЛЕНИЯ ДЕЛАМИ ПРЕЗИДЕНТА РОССИЙСКОЙ ФЕДЕРАЦИИ',\n",
       "     'inn': '5024000954',\n",
       "     'kpp': '502401001',\n",
       "     'postalAddress': 'Российская Федерация, 143420, Московская обл, Архангельское п',\n",
       "     'regNum': '05481000077'},\n",
       "    'documentBase': 'Указ Президента Российской Федерации, распоряжение Президента Российской Федерации,  постановление Правительства Российской Федерации, распоряжение Правительства Российской Федерации, в котором определяется единственный поставщик (подрядчик, исполнитель) от 02.12.2016 № 2016-рп',\n",
       "    'execution': {'endDate': '2019-12-31T00:00:00',\n",
       "     'startDate': '2017-04-17T00:00:00'},\n",
       "    'fileVersion': '2017050100_010',\n",
       "    'finances': {'extrabudget': {'code': '80',\n",
       "      'name': 'Средства государственных (муниципальных) унитарных предприятий'},\n",
       "     'extrabudgetFunds': {'stages': [{'endDate': '2019-12-31T00:00:00',\n",
       "        'payments': {'paymentMonth': '12',\n",
       "         'paymentSum': '12895321280.00',\n",
       "         'paymentSumRUR': '12895321280.00',\n",
       "         'paymentYear': '2017'}},\n",
       "       {'payments': {'paymentMonth': '12',\n",
       "         'paymentSum': '13712993870.00',\n",
       "         'paymentSumRUR': '13712993870.00',\n",
       "         'paymentYear': '2018'}},\n",
       "       {'payments': {'paymentMonth': '12',\n",
       "         'paymentSum': '9126615430.00',\n",
       "         'paymentSumRUR': '9126615430.00',\n",
       "         'paymentYear': '2019'}}]}},\n",
       "    'foundation': {'fcsOrder': {'lotNumber': '1',\n",
       "      'notificationNumber': '0548100007717000001',\n",
       "      'placing': '20000',\n",
       "      'purchaseCode': '171502400095450240100100010014120000'}},\n",
       "    'fz': '44',\n",
       "    'id': '33643527',\n",
       "    'loadId': 387,\n",
       "    'mongo_id': '59110cde878ec361f7211785',\n",
       "    'number': 'СО-6',\n",
       "    'placing': '20000',\n",
       "    'placingWayCode': 'EPP44',\n",
       "    'price': 35734930580.0,\n",
       "    'printFormUrl': 'http://zakupki.gov.ru/epz/contract/printForm/viewXml.html?contractInfoId=33643527',\n",
       "    'products': [{'OKEI': {'code': '876', 'name': 'УСЛ ЕД'},\n",
       "      'OKPD2': {'code': '41.20.40.000',\n",
       "       'name': 'Работы строительные по возведению нежилых зданий и сооружений (работы по строительству новых объектов, возведению пристроек, реконструкции и ремонту зданий)'},\n",
       "      'name': 'Выполнение\\nподрядных работ по объекту: «Строительство комплекса зданий в составе\\nадминистративных зданий Верховного Суда Российской Федерации и Судебного департамента\\nпри Верховном Суде Российской Федерации, инженерно-технического блока, 4-х\\nжилых домов для судей и работников аппарата Верховного Суда Российской\\nФедерации, Дворца танцев Б.Эйфмана, по адресу: г.Санкт-Петербург, пр.\\nДобролюбова, д.14»',\n",
       "      'price': 35734930580.0,\n",
       "      'quantity': '1.0',\n",
       "      'sid': '122310610',\n",
       "      'sum': 35734930580.0}],\n",
       "    'protocolDate': '2017-04-10',\n",
       "    'publishDate': '2017-04-17T09:59:18.506+03:00',\n",
       "    'regNum': '1502400095417000001',\n",
       "    'regionCode': '50',\n",
       "    'scan': [{'docDescription': 'РСУ СО-6 от 17.04.17г.',\n",
       "      'fileName': 'РСУ СО-6 от 17.04.17г..pdf',\n",
       "      'url': 'http://zakupki.gov.ru/44fz/filestore/public/1.0/download/rgk2/file.html?uid=4D5821B73910006EE0530A86120DE56E'}],\n",
       "    'schemaVersion': '7.0',\n",
       "    'signDate': '2017-04-17T00:00:00',\n",
       "    'singleCustomerReason': {'code': '20020',\n",
       "     'name': 'Осуществление закупки для государственных нужд у единственного поставщика (подрядчика, исполнителя), определенного указом или распоряжением Президента Российской Федерации, либо в случаях, установленных поручениями Президента Российской Федерации, у поставщика (подрядчика, исполнителя), определенного постановлением или распоряжением Правительства Российской Федерации'},\n",
       "    'suppliers': [{'factualAddress': '103312, Г МОСКВА 77, УЛ ВОЗДВИЖЕНКА, 4',\n",
       "      'inn': '7704008538',\n",
       "      'kpp': '770401001',\n",
       "      'legalForm': {'code': '65241',\n",
       "       'singularName': 'Федеральные государственные унитарные предприятия'},\n",
       "      'organizationName': 'ФЕДЕРАЛЬНОЕ ГОСУДАРСТВЕННОЕ УНИТАРНОЕ ПРЕДПРИЯТИЕ \"РЕМОНТНО-СТРОИТЕЛЬНОЕ УПРАВЛЕНИЕ\" УПРАВЛЕНИЯ ДЕЛАМИ ПРЕЗИДЕНТА РОССИЙСКОЙ ФЕДЕРАЦИИ\"',\n",
       "      'participantType': 'U'}],\n",
       "    'versionNumber': 0}],\n",
       "  'page': 1,\n",
       "  'perpage': 1,\n",
       "  'total': 1}}"
      ]
     },
     "execution_count": 14,
     "metadata": {},
     "output_type": "execute_result"
    }
   ],
   "source": [
    "url = 'http://openapi.clearspending.ru/restapi/v3/contracts/get/?regnum=1502400095417000001'\n",
    "req = requests.get(url).json()\n",
    "req"
   ]
  }
 ],
 "metadata": {
  "kernelspec": {
   "display_name": "Python 3",
   "language": "python",
   "name": "python3"
  },
  "language_info": {
   "codemirror_mode": {
    "name": "ipython",
    "version": 3
   },
   "file_extension": ".py",
   "mimetype": "text/x-python",
   "name": "python",
   "nbconvert_exporter": "python",
   "pygments_lexer": "ipython3",
   "version": "3.4.3+"
  }
 },
 "nbformat": 4,
 "nbformat_minor": 2
}
